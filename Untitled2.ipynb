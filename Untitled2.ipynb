{
 "cells": [
  {
   "cell_type": "code",
   "execution_count": 1,
   "id": "917452a8",
   "metadata": {},
   "outputs": [],
   "source": [
    "from sympy import *"
   ]
  },
  {
   "cell_type": "code",
   "execution_count": 2,
   "id": "969aefcb",
   "metadata": {},
   "outputs": [],
   "source": [
    "init_printing(use_unicode = False, wrap_line = False, no_global = True)"
   ]
  },
  {
   "cell_type": "code",
   "execution_count": 3,
   "id": "3c1fd1d3",
   "metadata": {},
   "outputs": [
    {
     "data": {
      "image/png": "[encoded data removed]",
      "text/latex": [
       "$\\displaystyle \\frac{\\left(\\sqrt{7} + \\sqrt{13}\\right)^{2}}{\\sqrt{91} + 10}$"
      ],
      "text/plain": [
       "                2\n",
       "/  ___     ____\\ \n",
       "\\\\/ 7  + \\/ 13 / \n",
       "-----------------\n",
       "     ____        \n",
       "   \\/ 91  + 10   "
      ]
     },
     "execution_count": 3,
     "metadata": {},
     "output_type": "execute_result"
    }
   ],
   "source": [
    "expression = (sqrt(13)+sqrt(7))**2/(10+sqrt(91))\n",
    "expression"
   ]
  },
  {
   "cell_type": "code",
   "execution_count": 4,
   "id": "d1b65251",
   "metadata": {},
   "outputs": [
    {
     "data": {
      "image/png": "[encoded data removed]",
      "text/latex": [
       "$\\displaystyle 2$"
      ],
      "text/plain": [
       "2"
      ]
     },
     "execution_count": 4,
     "metadata": {},
     "output_type": "execute_result"
    }
   ],
   "source": [
    "simplify(expression)"
   ]
  },
  {
   "cell_type": "code",
   "execution_count": 5,
   "id": "f238bbd1",
   "metadata": {},
   "outputs": [],
   "source": [
    "x = Symbol('x')\n",
    "y = Symbol('y')"
   ]
  },
  {
   "cell_type": "code",
   "execution_count": 6,
   "id": "48e9b033",
   "metadata": {},
   "outputs": [
    {
     "data": {
      "image/png": "[encoded data removed]",
      "text/latex": [
       "$\\displaystyle - 3 x \\left(\\frac{4 x}{3} + 4 y\\right) + \\left(2 x + 3 y\\right)^{2}$"
      ],
      "text/plain": [
       "      /4*x      \\              2\n",
       "- 3*x*|--- + 4*y| + (2*x + 3*y) \n",
       "      \\ 3       /               "
      ]
     },
     "execution_count": 6,
     "metadata": {},
     "output_type": "execute_result"
    }
   ],
   "source": [
    "expression = (2 * x + 3 * y) ** 2 - 3 * x * ((4 * x)/3 + 4 * y)\n",
    "expression"
   ]
  },
  {
   "cell_type": "code",
   "execution_count": 7,
   "id": "19365074",
   "metadata": {},
   "outputs": [
    {
     "data": {
      "image/png": "[encoded data removed]",
      "text/latex": [
       "$\\displaystyle 9 y^{2}$"
      ],
      "text/plain": [
       "   2\n",
       "9*y "
      ]
     },
     "execution_count": 7,
     "metadata": {},
     "output_type": "execute_result"
    }
   ],
   "source": [
    "simplify(expression)"
   ]
  },
  {
   "cell_type": "code",
   "execution_count": 10,
   "id": "1701de5b",
   "metadata": {},
   "outputs": [
    {
     "data": {
      "image/png": "[encoded data removed]",
      "text/latex": [
       "$\\displaystyle -4.309776 + 9 \\left(-0.692 + \\sqrt{3}\\right)^{2} + 12.456 \\sqrt{3}$"
      ],
      "text/plain": [
       "                              2               \n",
       "              /           ___\\             ___\n",
       "-4.309776 + 9*\\-0.692 + \\/ 3 /  + 12.456*\\/ 3 "
      ]
     },
     "execution_count": 10,
     "metadata": {},
     "output_type": "execute_result"
    }
   ],
   "source": [
    "expression.subs({ \n",
    "x: -1.038, \n",
    "y: sqrt(3) \n",
    "})"
   ]
  },
  {
   "cell_type": "code",
   "execution_count": 13,
   "id": "c4bfdb9c",
   "metadata": {},
   "outputs": [
    {
     "data": {
      "image/png": "[encoded data removed]",
      "text/latex": [
       "$\\displaystyle 28 a b + \\left(2 a - 7 b\\right)^{2}$"
      ],
      "text/plain": [
       "                    2\n",
       "28*a*b + (2*a - 7*b) "
      ]
     },
     "execution_count": 13,
     "metadata": {},
     "output_type": "execute_result"
    }
   ],
   "source": [
    "a, b = symbols('a, b')\n",
    "expression = 28 * a * b + (2 * a - 7 * b) ** 2\n",
    "expression"
   ]
  },
  {
   "cell_type": "code",
   "execution_count": 20,
   "id": "04115c18",
   "metadata": {},
   "outputs": [],
   "source": [
    "expression = expression.simplify()"
   ]
  },
  {
   "cell_type": "code",
   "execution_count": 21,
   "id": "177e36ec",
   "metadata": {},
   "outputs": [
    {
     "data": {
      "image/png": "[encoded data removed]",
      "text/latex": [
       "$\\displaystyle 452$"
      ],
      "text/plain": [
       "452"
      ]
     },
     "execution_count": 21,
     "metadata": {},
     "output_type": "execute_result"
    }
   ],
   "source": [
    "expression.subs({ \n",
    "a: sqrt(15), \n",
    "b: sqrt(8) \n",
    "})"
   ]
  },
  {
   "cell_type": "code",
   "execution_count": 22,
   "id": "3be6d2cf",
   "metadata": {},
   "outputs": [
    {
     "data": {
      "image/png": "[encoded data removed]",
      "text/latex": [
       "$\\displaystyle \\frac{7}{10 a}$"
      ],
      "text/plain": [
       " 7  \n",
       "----\n",
       "10*a"
      ]
     },
     "execution_count": 22,
     "metadata": {},
     "output_type": "execute_result"
    }
   ],
   "source": [
    "expression = (a / 2 + a / 5) * 1 / (a ** 2)\n",
    "expression"
   ]
  },
  {
   "cell_type": "code",
   "execution_count": 23,
   "id": "1d275c23",
   "metadata": {},
   "outputs": [
    {
     "data": {
      "image/png": "[encoded data removed]",
      "text/latex": [
       "$\\displaystyle 1.0$"
      ],
      "text/plain": [
       "1.00000000000000"
      ]
     },
     "execution_count": 23,
     "metadata": {},
     "output_type": "execute_result"
    }
   ],
   "source": [
    "expression.subs({ \n",
    "a: 0.7\n",
    "})"
   ]
  },
  {
   "cell_type": "code",
   "execution_count": 24,
   "id": "4934b7c1",
   "metadata": {},
   "outputs": [
    {
     "data": {
      "image/png": "[encoded data removed]",
      "text/latex": [
       "$\\displaystyle \\frac{\\left(x + 2\\right) \\left(x - \\frac{6 x}{x + 2}\\right)}{x - 4}$"
      ],
      "text/plain": [
       "        /     6*x \\\n",
       "(x + 2)*|x - -----|\n",
       "        \\    x + 2/\n",
       "-------------------\n",
       "       x - 4       "
      ]
     },
     "execution_count": 24,
     "metadata": {},
     "output_type": "execute_result"
    }
   ],
   "source": [
    "expression = (x - (6 * x) / (x + 2)) / ((x - 4)/(x + 2))\n",
    "expression"
   ]
  },
  {
   "cell_type": "code",
   "execution_count": 26,
   "id": "1227de98",
   "metadata": {},
   "outputs": [
    {
     "data": {
      "image/png": "[encoded data removed]",
      "text/latex": [
       "$\\displaystyle x$"
      ],
      "text/plain": [
       "x"
      ]
     },
     "execution_count": 26,
     "metadata": {},
     "output_type": "execute_result"
    }
   ],
   "source": [
    "expression = expression.simplify()\n",
    "expression"
   ]
  },
  {
   "cell_type": "code",
   "execution_count": 27,
   "id": "fe3f54b3",
   "metadata": {},
   "outputs": [
    {
     "data": {
      "image/png": "[encoded data removed]",
      "text/latex": [
       "$\\displaystyle a^{2} b^{2} \\cdot \\left(\\frac{9}{b^{2}} + \\frac{4}{a^{2}}\\right)$"
      ],
      "text/plain": [
       " 2  2 /9    4 \\\n",
       "a *b *|-- + --|\n",
       "      | 2    2|\n",
       "      \\b    a /"
      ]
     },
     "execution_count": 27,
     "metadata": {},
     "output_type": "execute_result"
    }
   ],
   "source": [
    "expression = ((4 / a ** 2) + (9 / b ** 2)) * (a * b) ** 2\n",
    "expression"
   ]
  },
  {
   "cell_type": "code",
   "execution_count": 28,
   "id": "e0e95413",
   "metadata": {},
   "outputs": [
    {
     "data": {
      "image/png": "[encoded data removed]",
      "text/latex": [
       "$\\displaystyle 9 a^{2} + 4 b^{2}$"
      ],
      "text/plain": [
       "   2      2\n",
       "9*a  + 4*b "
      ]
     },
     "execution_count": 28,
     "metadata": {},
     "output_type": "execute_result"
    }
   ],
   "source": [
    "expression = expression.simplify()\n",
    "expression"
   ]
  },
  {
   "cell_type": "code",
   "execution_count": 31,
   "id": "9630691e",
   "metadata": {},
   "outputs": [
    {
     "data": {
      "image/png": "[encoded data removed]",
      "text/latex": [
       "$\\displaystyle - \\frac{1}{2}$"
      ],
      "text/plain": [
       "-1/2"
      ]
     },
     "execution_count": 31,
     "metadata": {},
     "output_type": "execute_result"
    }
   ],
   "source": [
    "c, k = symbols('c, k')\n",
    "expression = 5/c/k**2 *k**3 * c - (10*k+1)/2\n",
    "expression"
   ]
  },
  {
   "cell_type": "code",
   "execution_count": 32,
   "id": "89fedb21",
   "metadata": {},
   "outputs": [
    {
     "data": {
      "image/png": "[encoded data removed]",
      "text/latex": [
       "$\\displaystyle \\frac{3 x^{2} + 4 x}{x^{2} - 2 x} - \\frac{x + 8}{x - 2} - \\frac{2 x + 7}{x}$"
      ],
      "text/plain": [
       "   2                        \n",
       "3*x  + 4*x   x + 8   2*x + 7\n",
       "---------- - ----- - -------\n",
       "  2          x - 2      x   \n",
       " x  - 2*x                   "
      ]
     },
     "execution_count": 32,
     "metadata": {},
     "output_type": "execute_result"
    }
   ],
   "source": [
    "expression = (3 * x ** 2 + 4 * x)/(x ** 2 - 2 * x) - ((2 * x + 7)/x) - ((x + 8)/(x - 2))\n",
    "expression"
   ]
  },
  {
   "cell_type": "code",
   "execution_count": 33,
   "id": "9ce0308a",
   "metadata": {},
   "outputs": [
    {
     "data": {
      "image/png": "[encoded data removed]",
      "text/latex": [
       "$\\displaystyle - \\frac{7}{x}$"
      ],
      "text/plain": [
       "-7 \n",
       "---\n",
       " x "
      ]
     },
     "execution_count": 33,
     "metadata": {},
     "output_type": "execute_result"
    }
   ],
   "source": [
    "expression = expression.simplify()\n",
    "expression"
   ]
  },
  {
   "cell_type": "code",
   "execution_count": null,
   "id": "727d99a0",
   "metadata": {},
   "outputs": [],
   "source": []
  }
 ],
 "metadata": {
  "kernelspec": {
   "display_name": "Python 3 (ipykernel)",
   "language": "python",
   "name": "python3"
  },
  "language_info": {
   "codemirror_mode": {
    "name": "ipython",
    "version": 3
   },
   "file_extension": ".py",
   "mimetype": "text/x-python",
   "name": "python",
   "nbconvert_exporter": "python",
   "pygments_lexer": "ipython3",
   "version": "3.10.9"
  }
 },
 "nbformat": 4,
 "nbformat_minor": 5
}
